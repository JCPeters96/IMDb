{
 "cells": [
  {
   "cell_type": "markdown",
   "metadata": {},
   "source": [
    "Useful links:\n",
    "https://dev.to/magesh236/scrape-imdb-movie-rating-and-details-3a7c\n",
    "https://isabella-b.com/blog/scraping-episode-imdb-ratings-tutorial/\n",
    "\n"
   ]
  },
  {
   "cell_type": "markdown",
   "metadata": {},
   "source": [
    "#### Import packages"
   ]
  },
  {
   "cell_type": "code",
   "execution_count": 47,
   "metadata": {},
   "outputs": [],
   "source": [
    "from datetime import date\n",
    "import time\n",
    "from bs4 import BeautifulSoup\n",
    "def connect():\n",
    "    global driver\n",
    "    \n",
    "    import selenium.webdriver\n",
    "    driver = selenium.webdriver.Chrome()\n",
    "    driver.get(\"https://www.imdb.com\")\n",
    "connect()"
   ]
  },
  {
   "cell_type": "markdown",
   "metadata": {},
   "source": [
    "#### Import csv with tt-codes"
   ]
  },
  {
   "cell_type": "code",
   "execution_count": 48,
   "metadata": {},
   "outputs": [],
   "source": [
    "import pandas as pd\n",
    "movie_df = pd.read_csv(r'IMDb movies.csv', low_memory = False)"
   ]
  },
  {
   "cell_type": "markdown",
   "metadata": {},
   "source": [
    "Column with tt-codes"
   ]
  },
  {
   "cell_type": "code",
   "execution_count": 49,
   "metadata": {},
   "outputs": [],
   "source": [
    "tt_codes = movie_df.imdb_title_id"
   ]
  },
  {
   "cell_type": "markdown",
   "metadata": {},
   "source": [
    "#### Create urls and CSV"
   ]
  },
  {
   "cell_type": "code",
   "execution_count": 50,
   "metadata": {},
   "outputs": [
    {
     "data": {
      "text/plain": [
       "0     https://www.imdb.com/title/tt0000009\n",
       "1     https://www.imdb.com/title/tt0000574\n",
       "2     https://www.imdb.com/title/tt0001892\n",
       "3     https://www.imdb.com/title/tt0002101\n",
       "4     https://www.imdb.com/title/tt0002130\n",
       "5     https://www.imdb.com/title/tt0002199\n",
       "6     https://www.imdb.com/title/tt0002423\n",
       "7     https://www.imdb.com/title/tt0002445\n",
       "8     https://www.imdb.com/title/tt0002452\n",
       "9     https://www.imdb.com/title/tt0002461\n",
       "10    https://www.imdb.com/title/tt0002646\n",
       "11    https://www.imdb.com/title/tt0002844\n",
       "12    https://www.imdb.com/title/tt0003014\n",
       "13    https://www.imdb.com/title/tt0003037\n",
       "14    https://www.imdb.com/title/tt0003102\n",
       "15    https://www.imdb.com/title/tt0003131\n",
       "16    https://www.imdb.com/title/tt0003165\n",
       "17    https://www.imdb.com/title/tt0003167\n",
       "18    https://www.imdb.com/title/tt0003419\n",
       "19    https://www.imdb.com/title/tt0003471\n",
       "Name: imdb_title_id, dtype: object"
      ]
     },
     "execution_count": 50,
     "metadata": {},
     "output_type": "execute_result"
    }
   ],
   "source": [
    "base_url = 'https://www.imdb.com/title/'\n",
    "title_url = tt_codes[0:20]\n",
    "full_url = base_url + title_url\n",
    "full_url"
   ]
  },
  {
   "cell_type": "code",
   "execution_count": 51,
   "metadata": {},
   "outputs": [],
   "source": [
    "url_df = pd.DataFrame(full_url)\n",
    "url_df.to_csv(\"IMDb_urls.csv\", index=False)"
   ]
  },
  {
   "cell_type": "markdown",
   "metadata": {},
   "source": [
    "#### Open CSV urls"
   ]
  },
  {
   "cell_type": "code",
   "execution_count": 52,
   "metadata": {},
   "outputs": [
    {
     "data": {
      "text/plain": [
       "['imdb_title_id',\n",
       " 'https://www.imdb.com/title/tt0000009',\n",
       " 'https://www.imdb.com/title/tt0000574',\n",
       " 'https://www.imdb.com/title/tt0001892',\n",
       " 'https://www.imdb.com/title/tt0002101',\n",
       " 'https://www.imdb.com/title/tt0002130',\n",
       " 'https://www.imdb.com/title/tt0002199',\n",
       " 'https://www.imdb.com/title/tt0002423',\n",
       " 'https://www.imdb.com/title/tt0002445',\n",
       " 'https://www.imdb.com/title/tt0002452',\n",
       " 'https://www.imdb.com/title/tt0002461',\n",
       " 'https://www.imdb.com/title/tt0002646',\n",
       " 'https://www.imdb.com/title/tt0002844',\n",
       " 'https://www.imdb.com/title/tt0003014',\n",
       " 'https://www.imdb.com/title/tt0003037',\n",
       " 'https://www.imdb.com/title/tt0003102',\n",
       " 'https://www.imdb.com/title/tt0003131',\n",
       " 'https://www.imdb.com/title/tt0003165',\n",
       " 'https://www.imdb.com/title/tt0003167',\n",
       " 'https://www.imdb.com/title/tt0003419',\n",
       " 'https://www.imdb.com/title/tt0003471']"
      ]
     },
     "execution_count": 52,
     "metadata": {},
     "output_type": "execute_result"
    }
   ],
   "source": [
    "f = open('IMDb_urls.csv', 'r', encoding='utf-8').readlines()\n",
    "all_movies = []\n",
    "for i in f: all_movies.append(i.replace('\\n',''))\n",
    "\n",
    "all_movies"
   ]
  },
  {
   "cell_type": "code",
   "execution_count": 27,
   "metadata": {},
   "outputs": [],
   "source": [
    "#urls_df = pd.read_csv(r'IMDb_urls.csv', low_memory = False)\n",
    "#urls_df"
   ]
  },
  {
   "cell_type": "markdown",
   "metadata": {},
   "source": [
    "#### Function with all data"
   ]
  },
  {
   "cell_type": "code",
   "execution_count": 75,
   "metadata": {},
   "outputs": [],
   "source": [
    "def get_movie_data(all_movies):\n",
    "    driver.get(url)\n",
    "    time.sleep(6)\n",
    "    res = driver.page_source.encode('utf-8')\n",
    "    soup = BeautifulSoup(res, \"html.parser\")\n",
    "\n",
    "    def movie_titles():\n",
    "        for title in all_movies:\n",
    "            try:\n",
    "                movie_title = soup.find(\"div\",{'class':'titleBar'}).find(\"h1\")\n",
    "                title = movie_title.contents[0].replace(u'\\xa0', u'')\n",
    "                return(title)\n",
    "            except:\n",
    "                continue\n",
    "    \n",
    "    def movie_ratings():\n",
    "        for rating in all_movies:\n",
    "            try:\n",
    "                movie_rating = soup.find(\"span\", {\"itemprop\" : \"ratingValue\"})\n",
    "                rating = movie_rating.string\n",
    "                return(rating)\n",
    "            except:\n",
    "                continue\n",
    "                \n",
    "    def movie_votes():\n",
    "        for votes in all_movies:\n",
    "            try:\n",
    "                votes = episode_containers[0].find('span', class_='ipl-rating-star__total-votes').text\n",
    "                return(votes)\n",
    "            except:\n",
    "                continue\n",
    "    \n",
    "    def movie_director():\n",
    "        for director in all_movies:\n",
    "            try:\n",
    "                director = soup.find(class_=\"credit_summary_item\").find('a').text\n",
    "                return(director)\n",
    "            except:\n",
    "                continue\n",
    "    \n",
    "    def movie_date():\n",
    "        for date in all_movies:\n",
    "            try:\n",
    "                year = soup.find(class_=\"title_block\").find(id_=\"titleYear\").find('a').text\n",
    "                return(year)\n",
    "            except:\n",
    "                continue             \n",
    "    jsondict = {\"title\": title,\n",
    "                \"IMDb rating\": movie_ratings(),\n",
    "                \"votes\": movie_votes(),\n",
    "                \"director\": movie_director(),\n",
    "                \"date\": movie_date()}\n",
    "    return(jsondict)"
   ]
  },
  {
   "cell_type": "code",
   "execution_count": 76,
   "metadata": {},
   "outputs": [
    {
     "data": {
      "text/plain": [
       "{'title': 'Inception',\n",
       " 'IMDb rating': '8,8',\n",
       " 'votes': None,\n",
       " 'director': 'Christopher Nolan',\n",
       " 'date': None}"
      ]
     },
     "execution_count": 76,
     "metadata": {},
     "output_type": "execute_result"
    }
   ],
   "source": [
    "imdb_json = get_movie_data(all_movies)\n",
    "imdb_json"
   ]
  },
  {
   "cell_type": "code",
   "execution_count": null,
   "metadata": {},
   "outputs": [],
   "source": [
    "def get_movie_data(full_url):\n",
    "    for url in full_url:\n",
    "        driver.get(url)\n",
    "        time.sleep(5)\n",
    "        res = driver.page_source.encode('utf-8')\n",
    "        soup = BeautifulSoup(res, \"html.parser\")\n",
    "        \n",
    "        title = soup.find(\"div\",{'class':'titleBar'}).find(\"h1\")\n",
    "        title.contents[0].replace(u'\\xa0', u'')\n",
    "        jsondict = {\"title\": title,}\n",
    "        return(jsondict)   \n",
    "IMDb_json = get_movie_data(full_url)\n",
    "IMDb_json"
   ]
  },
  {
   "cell_type": "markdown",
   "metadata": {},
   "source": [
    "Inspect testing"
   ]
  },
  {
   "cell_type": "code",
   "execution_count": 17,
   "metadata": {},
   "outputs": [
    {
     "ename": "NameError",
     "evalue": "name 'requests' is not defined",
     "output_type": "error",
     "traceback": [
      "\u001b[1;31m---------------------------------------------------------------------------\u001b[0m",
      "\u001b[1;31mNameError\u001b[0m                                 Traceback (most recent call last)",
      "\u001b[1;32m<ipython-input-17-bb8328de03b8>\u001b[0m in \u001b[0;36m<module>\u001b[1;34m\u001b[0m\n\u001b[0;32m      1\u001b[0m \u001b[0murl\u001b[0m \u001b[1;33m=\u001b[0m \u001b[1;34m'https://www.imdb.com/title/tt1375666/'\u001b[0m\u001b[1;33m\u001b[0m\u001b[1;33m\u001b[0m\u001b[0m\n\u001b[1;32m----> 2\u001b[1;33m \u001b[0mres\u001b[0m \u001b[1;33m=\u001b[0m \u001b[0mrequests\u001b[0m\u001b[1;33m.\u001b[0m\u001b[0mget\u001b[0m\u001b[1;33m(\u001b[0m\u001b[0murl\u001b[0m\u001b[1;33m)\u001b[0m\u001b[1;33m\u001b[0m\u001b[1;33m\u001b[0m\u001b[0m\n\u001b[0m\u001b[0;32m      3\u001b[0m \u001b[0msoup\u001b[0m \u001b[1;33m=\u001b[0m \u001b[0mBeautifulSoup\u001b[0m\u001b[1;33m(\u001b[0m\u001b[0mres\u001b[0m\u001b[1;33m.\u001b[0m\u001b[0mtext\u001b[0m\u001b[1;33m,\u001b[0m \u001b[1;34m\"html.parser\"\u001b[0m\u001b[1;33m)\u001b[0m\u001b[1;33m\u001b[0m\u001b[1;33m\u001b[0m\u001b[0m\n\u001b[0;32m      4\u001b[0m \u001b[1;33m\u001b[0m\u001b[0m\n\u001b[0;32m      5\u001b[0m \u001b[0mtitle\u001b[0m \u001b[1;33m=\u001b[0m \u001b[0msoup\u001b[0m\u001b[1;33m.\u001b[0m\u001b[0mfind\u001b[0m\u001b[1;33m(\u001b[0m\u001b[1;34m\"div\"\u001b[0m\u001b[1;33m,\u001b[0m\u001b[1;33m{\u001b[0m\u001b[1;34m'class'\u001b[0m\u001b[1;33m:\u001b[0m\u001b[1;34m'titleBar'\u001b[0m\u001b[1;33m}\u001b[0m\u001b[1;33m)\u001b[0m\u001b[1;33m.\u001b[0m\u001b[0mfind\u001b[0m\u001b[1;33m(\u001b[0m\u001b[1;34m\"h1\"\u001b[0m\u001b[1;33m)\u001b[0m\u001b[1;33m\u001b[0m\u001b[1;33m\u001b[0m\u001b[0m\n",
      "\u001b[1;31mNameError\u001b[0m: name 'requests' is not defined"
     ]
    }
   ],
   "source": [
    "url = 'https://www.imdb.com/title/tt1375666/'\n",
    "res = requests.get(url)\n",
    "soup = BeautifulSoup(res.text, \"html.parser\")\n",
    "\n",
    "title = soup.find(\"div\",{'class':'titleBar'}).find(\"h1\")\n",
    "title.contents[0].replace(u'\\xa0', u'')"
   ]
  },
  {
   "cell_type": "code",
   "execution_count": 13,
   "metadata": {},
   "outputs": [
    {
     "ename": "NameError",
     "evalue": "name 'requests' is not defined",
     "output_type": "error",
     "traceback": [
      "\u001b[1;31m---------------------------------------------------------------------------\u001b[0m",
      "\u001b[1;31mNameError\u001b[0m                                 Traceback (most recent call last)",
      "\u001b[1;32m<ipython-input-13-dda235f66851>\u001b[0m in \u001b[0;36m<module>\u001b[1;34m\u001b[0m\n\u001b[0;32m      1\u001b[0m \u001b[0murl\u001b[0m \u001b[1;33m=\u001b[0m \u001b[1;34m'https://www.imdb.com/title/tt1375666/'\u001b[0m\u001b[1;33m\u001b[0m\u001b[1;33m\u001b[0m\u001b[0m\n\u001b[1;32m----> 2\u001b[1;33m \u001b[0mres\u001b[0m \u001b[1;33m=\u001b[0m \u001b[0mrequests\u001b[0m\u001b[1;33m.\u001b[0m\u001b[0mget\u001b[0m\u001b[1;33m(\u001b[0m\u001b[0murl\u001b[0m\u001b[1;33m)\u001b[0m\u001b[1;33m\u001b[0m\u001b[1;33m\u001b[0m\u001b[0m\n\u001b[0m\u001b[0;32m      3\u001b[0m \u001b[0msoup\u001b[0m \u001b[1;33m=\u001b[0m \u001b[0mBeautifulSoup\u001b[0m\u001b[1;33m(\u001b[0m\u001b[0mres\u001b[0m\u001b[1;33m.\u001b[0m\u001b[0mtext\u001b[0m\u001b[1;33m,\u001b[0m \u001b[1;34m\"html.parser\"\u001b[0m\u001b[1;33m)\u001b[0m\u001b[1;33m\u001b[0m\u001b[1;33m\u001b[0m\u001b[0m\n\u001b[0;32m      4\u001b[0m \u001b[0mr\u001b[0m \u001b[1;33m=\u001b[0m \u001b[0mrequests\u001b[0m\u001b[1;33m.\u001b[0m\u001b[0mget\u001b[0m\u001b[1;33m(\u001b[0m\u001b[0murl\u001b[0m\u001b[1;33m)\u001b[0m\u001b[1;33m\u001b[0m\u001b[1;33m\u001b[0m\u001b[0m\n\u001b[0;32m      5\u001b[0m \u001b[0mbs\u001b[0m \u001b[1;33m=\u001b[0m \u001b[0mBeautifulSoup\u001b[0m\u001b[1;33m(\u001b[0m\u001b[0mr\u001b[0m\u001b[1;33m.\u001b[0m\u001b[0mtext\u001b[0m\u001b[1;33m)\u001b[0m\u001b[1;33m\u001b[0m\u001b[1;33m\u001b[0m\u001b[0m\n",
      "\u001b[1;31mNameError\u001b[0m: name 'requests' is not defined"
     ]
    }
   ],
   "source": [
    "url = 'https://www.imdb.com/title/tt1375666/'\n",
    "res = requests.get(url)\n",
    "soup = BeautifulSoup(res.text, \"html.parser\")\n",
    "r = requests.get(url)  \n",
    "bs = BeautifulSoup(r.text)\n",
    "for movie in bs.findAll('td','title'):\n",
    "    title = movie.find('a').contents[0]\n",
    "    genres = movie.find('span','genre').findAll('a')\n",
    "    genres = [g.contents[0] for g in genres]\n",
    "    runtime = movie.find('span','runtime').contents[0]\n",
    "    year = movie.find('span','year_type').contents[0]\n",
    "    print(title, genres,runtime, rating, year)"
   ]
  }
 ],
 "metadata": {
  "kernelspec": {
   "display_name": "Python 3",
   "language": "python",
   "name": "python3"
  },
  "language_info": {
   "codemirror_mode": {
    "name": "ipython",
    "version": 3
   },
   "file_extension": ".py",
   "mimetype": "text/x-python",
   "name": "python",
   "nbconvert_exporter": "python",
   "pygments_lexer": "ipython3",
   "version": "3.8.5"
  }
 },
 "nbformat": 4,
 "nbformat_minor": 4
}
